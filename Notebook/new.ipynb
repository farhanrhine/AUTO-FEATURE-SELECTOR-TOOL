{
 "cells": [
  {
   "cell_type": "markdown",
   "id": "1e4e7174",
   "metadata": {},
   "source": [
    "give a string s containing just a character (, ),{, },[, ] print if input string is valid.\n",
    "\n",
    "input string is valid if\n",
    "1. open bracket must be closed by the same type of brackets.\n",
    "2. open bracket must be closed in the correct order.\n",
    "3. every close bracket has correspond open bracket same \n",
    "\n"
   ]
  },
  {
   "cell_type": "code",
   "execution_count": 12,
   "id": "4e1ee604",
   "metadata": {},
   "outputs": [
    {
     "name": "stdout",
     "output_type": "stream",
     "text": [
      "Valid\n"
     ]
    }
   ],
   "source": [
    "def is_valid(s):\n",
    "    stack = []\n",
    "    bracket_map = {')': '(', '}': '{', ']': '['}\n",
    "\n",
    "    for char in s:\n",
    "        if char in bracket_map:\n",
    "            top_element = stack.pop() if stack else '#'\n",
    "            if bracket_map[char] != top_element:\n",
    "                return \"Invalid\"\n",
    "        else:\n",
    "            stack.append(char)\n",
    "\n",
    "    return \"Valid\" if not stack else \"Invalid\"\n",
    "\n",
    "s = \"{[()]}\"\n",
    "print(is_valid(s))  "
   ]
  },
  {
   "cell_type": "code",
   "execution_count": 13,
   "id": "3febfb4c",
   "metadata": {},
   "outputs": [
    {
     "name": "stdout",
     "output_type": "stream",
     "text": [
      "Valid\n"
     ]
    }
   ],
   "source": [
    "s = \"()[]{}\"\n",
    "print(is_valid(s))  \n"
   ]
  },
  {
   "cell_type": "code",
   "execution_count": 15,
   "id": "87dc2f74",
   "metadata": {},
   "outputs": [
    {
     "name": "stdout",
     "output_type": "stream",
     "text": [
      "Invalid\n"
     ]
    }
   ],
   "source": [
    "s = \"(){[]\"\n",
    "print(is_valid(s))  \n"
   ]
  },
  {
   "cell_type": "markdown",
   "id": "2d8a19a4",
   "metadata": {},
   "source": []
  },
  {
   "cell_type": "markdown",
   "id": "2421860f",
   "metadata": {},
   "source": [
    "given signed 32 bits interger x return x with  reverse of digit\n",
    "\n",
    "input: 6543\n",
    "output: 3456\n",
    "input : -132\n",
    "output:  - 231"
   ]
  },
  {
   "cell_type": "markdown",
   "id": "e167eb5d",
   "metadata": {},
   "source": []
  },
  {
   "cell_type": "code",
   "execution_count": 7,
   "id": "222c5262",
   "metadata": {},
   "outputs": [
    {
     "name": "stdout",
     "output_type": "stream",
     "text": [
      "3456\n",
      "-231\n"
     ]
    }
   ],
   "source": [
    "def reverse_integer(x):\n",
    "    sign = -1 if x < 0 else 1\n",
    "    reversed_x = int(str(abs(x))[::-1]) * sign\n",
    "    \n",
    "    if reversed_x < -2**31 or reversed_x > 2**31 - 1:\n",
    "        return 0  \n",
    "\n",
    "    return reversed_x\n",
    "\n",
    "print(reverse_integer(6543))  \n",
    "print(reverse_integer(-132))  "
   ]
  },
  {
   "cell_type": "code",
   "execution_count": null,
   "id": "b4e92782",
   "metadata": {},
   "outputs": [],
   "source": []
  },
  {
   "cell_type": "code",
   "execution_count": null,
   "id": "3d163c66",
   "metadata": {},
   "outputs": [],
   "source": []
  },
  {
   "cell_type": "code",
   "execution_count": null,
   "id": "37378b30",
   "metadata": {},
   "outputs": [],
   "source": []
  },
  {
   "cell_type": "code",
   "execution_count": null,
   "id": "d488f3e5",
   "metadata": {},
   "outputs": [],
   "source": []
  },
  {
   "cell_type": "code",
   "execution_count": null,
   "id": "52f61dff",
   "metadata": {},
   "outputs": [],
   "source": []
  },
  {
   "cell_type": "code",
   "execution_count": null,
   "id": "ec4793b3",
   "metadata": {},
   "outputs": [],
   "source": []
  },
  {
   "cell_type": "code",
   "execution_count": null,
   "id": "9b407ad9",
   "metadata": {},
   "outputs": [],
   "source": []
  },
  {
   "cell_type": "code",
   "execution_count": null,
   "id": "4fe1c895",
   "metadata": {},
   "outputs": [],
   "source": []
  },
  {
   "cell_type": "code",
   "execution_count": null,
   "id": "f6fb676c",
   "metadata": {},
   "outputs": [],
   "source": []
  },
  {
   "cell_type": "code",
   "execution_count": null,
   "id": "acca7ff3",
   "metadata": {},
   "outputs": [],
   "source": []
  },
  {
   "cell_type": "code",
   "execution_count": null,
   "id": "47dc749f",
   "metadata": {},
   "outputs": [],
   "source": []
  },
  {
   "cell_type": "code",
   "execution_count": null,
   "metadata": {},
   "outputs": [],
   "source": []
  },
  {
   "cell_type": "code",
   "execution_count": null,
   "metadata": {},
   "outputs": [],
   "source": []
  },
  {
   "cell_type": "code",
   "execution_count": null,
   "id": "2f835b9e",
   "metadata": {},
   "outputs": [],
   "source": []
  },
  {
   "cell_type": "code",
   "execution_count": null,
   "metadata": {},
   "outputs": [],
   "source": []
  },
  {
   "cell_type": "code",
   "execution_count": null,
   "metadata": {},
   "outputs": [],
   "source": []
  },
  {
   "cell_type": "code",
   "execution_count": null,
   "id": "5405d8cc",
   "metadata": {},
   "outputs": [],
   "source": []
  },
  {
   "cell_type": "code",
   "execution_count": null,
   "id": "62b798c3",
   "metadata": {},
   "outputs": [],
   "source": []
  }
 ],
 "metadata": {
  "kernelspec": {
   "display_name": "Python 3",
   "language": "python",
   "name": "python3"
  },
  "language_info": {
   "codemirror_mode": {
    "name": "ipython",
    "version": 3
   },
   "file_extension": ".py",
   "mimetype": "text/x-python",
   "name": "python",
   "nbconvert_exporter": "python",
   "pygments_lexer": "ipython3",
   "version": "3.9.10"
  }
 },
 "nbformat": 4,
 "nbformat_minor": 5
}
